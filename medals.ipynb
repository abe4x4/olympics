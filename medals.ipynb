{
 "cells": [
  {
   "cell_type": "code",
   "execution_count": 1,
   "id": "7b8f16c0-9ccc-4b6d-afe6-cb316d672d3f",
   "metadata": {},
   "outputs": [],
   "source": [
    "\n",
    "#Feature 04: Create a dictionary or list, populate it with several values, retrieve at least one value, and use it in your program\n"
   ]
  },
  {
   "cell_type": "markdown",
   "id": "eb02adab-81d4-4cd3-8f08-2df44982849e",
   "metadata": {},
   "source": [
    "#Feature 07: Use a Jupyter notebook to document your data analysis."
   ]
  },
  {
   "cell_type": "code",
   "execution_count": null,
   "id": "9ee9ba6a-2f3f-453d-be5b-45efbae3af19",
   "metadata": {},
   "outputs": [],
   "source": [
    "import numpy as np \n",
    "import pandas as pd\n",
    "import matplotlib.pyplot as plt\n",
    "import seaborn as sns\n",
    "\n",
    "import time\n",
    "import datetime\n",
    "import rich\n",
    "from rich import print\n"
   ]
  },
  {
   "cell_type": "code",
   "execution_count": null,
   "id": "4f151415-896c-4707-9ada-2dd9e3c43780",
   "metadata": {},
   "outputs": [],
   "source": [
    "matplotlib inline"
   ]
  },
  {
   "cell_type": "markdown",
   "id": "75b76d34-f9a3-4504-8a34-cfb3a90abf22",
   "metadata": {},
   "source": [
    "#Feature 01: Read data from an external file, such as text, JSON, CSV, etc and use that data in your application\n",
    "#Feature 03: Use pandas, matplotlib, and/or numpy to perform a data analysis project. Ingest 2 or more pieces of data, analyze that data in some manner, and display a new result to a graph, chart, or other display"
   ]
  },
  {
   "cell_type": "code",
   "execution_count": null,
   "id": "a6189959-10d9-4748-83cb-76fb0d10cf82",
   "metadata": {},
   "outputs": [],
   "source": [
    "#Read from country_definitions.csv\n",
    "df_countries = pd.read_csv('data/country_definitions.csv')\n",
    "df_countries.rename(columns={'region': 'Country'}, inplace=True) # Rename Country column to NOC\n",
    "\n",
    "\n",
    "df_countries.head() #TEST"
   ]
  },
  {
   "cell_type": "markdown",
   "id": "96995e19-8a6c-4c4e-948a-11a4744914ff",
   "metadata": {},
   "source": [
    "#Feature 01: Read data from an external file, such as text, JSON, CSV, etc and use that data in your application\n",
    "#Feature 02: Create and call at least 3 functions or methods, at least one of which must return a value that is used somewhere else in your code. (function 1 of 3)\n",
    "#Feature 03: Use pandas, matplotlib, and/or numpy to perform a data analysis project. Ingest 2 or more pieces of data, analyze that data in some manner, and display a new result to a graph, chart, or other display"
   ]
  },
  {
   "cell_type": "code",
   "execution_count": null,
   "id": "96d1f663",
   "metadata": {},
   "outputs": [],
   "source": [
    "#Read csv files\n",
    "def import_data(file_name, season):\n",
    "    df = pd.read_csv(file_name)\n",
    "    df[\"Season\"] = season #Adding a column for the season of the Olympic games\n",
    "    df[\"Sport\"] = df[\"Discipline\"].astype(str) + \"-\" + df[\"Event\"].astype(str) # Add a column discribes the event\n",
    "    df.rename(columns={'Country': 'NOC'}, inplace=True) # Rename Country column to NOC\n",
    "    #df = df[['Year','NOC', 'Sport', 'Medal', 'Season']] # Select only useful columns\n",
    "\n",
    "    return df\n",
    "\n",
    "\n",
    "df1 = import_data(\"data/summer.csv\", \"summer\")\n",
    "df2 = import_data(\"data/winter.csv\", \"winter\")\n",
    "\n",
    "df1.head(2000) #TEST"
   ]
  },
  {
   "cell_type": "markdown",
   "id": "144198f1-9df2-48ba-ade6-cb70322fddba",
   "metadata": {},
   "source": [
    "#Feature 03: Use pandas, matplotlib, and/or numpy to perform a data analysis project. Ingest 2 or more pieces of data, analyze that data in some manner, and display a new result to a graph, chart, or other display"
   ]
  },
  {
   "cell_type": "code",
   "execution_count": null,
   "id": "0369bad6-a082-4d23-a882-696cc630bb4a",
   "metadata": {},
   "outputs": [],
   "source": [
    "#Sort Function  to prepare for joining dataframes\n",
    "def sort_funct(df, col):\n",
    "    df_sorted = df.sort_values(col)\n",
    "    \n",
    "    return df_sorted\n",
    "\n",
    "df1_sorted = sort_funct (df1, 'NOC')\n",
    "df2_sorted = sort_funct (df2, 'NOC')\n",
    "df_countries_sorted = sort_funct (df_countries, 'NOC')\n",
    "\n",
    "\n",
    "#Combine the two dataframes using outer join\n",
    "df1 = pd.merge(df1_sorted, df_countries, on='NOC', how='outer')\n",
    "df2 = pd.merge(df2_sorted, df_countries, on='NOC', how='outer')\n",
    "df3 = pd.concat([df1, df2])\n",
    "\n",
    "df3.head(2200) #TEST"
   ]
  },
  {
   "cell_type": "markdown",
   "id": "d89a0c19-ed1e-4f8d-aa70-d544d7f85b5c",
   "metadata": {},
   "source": [
    "#Feature 02: Create and call at least 3 functions or methods, at least one of which must return a value that is used somewhere else in your code. (function 2 of 3)\n",
    "#Feature 03: Use pandas, matplotlib, and/or numpy to perform a data analysis project. Ingest 2 or more pieces of data, analyze that data in some manner, and display a new result to a graph, chart, or other display"
   ]
  },
  {
   "cell_type": "code",
   "execution_count": null,
   "id": "7a1f834e-236a-46cc-ae1d-397ec85ad39e",
   "metadata": {},
   "outputs": [],
   "source": [
    "#function to choose the season of Olympic games and the medal type\n",
    "def Selection (season, medal):\n",
    "    if season == 'summer' and medal == 'gold':\n",
    "        result = df1.query('Medal == \"Gold\"')\n",
    "    elif season == 'summer' and medal == 'silver':\n",
    "        result = df1.query('Medal == \"Silver\"')\n",
    "    elif season == 'summer' and medal == 'bronze':\n",
    "        result = df1.query('Medal == \"Bronze\"')\n",
    "    elif season == 'winter' and medal == 'gold':\n",
    "        result = df2.query('Medal == \"Gold\"')\n",
    "    elif season == 'winter' and medal == 'silver':\n",
    "        result = df2.query('Medal == \"Silver\"')\n",
    "    elif season == 'winter' and medal == 'bronze':\n",
    "        result = df2.query('Medal == \"Bronze\"')\n",
    "        \n",
    "    elif season == 'summer' and medal == 'total_summer':\n",
    "        result = df1\n",
    "    elif season == 'winter' and medal == 'total_winter':\n",
    "        result = df2\n",
    "        \n",
    "    elif season == 'both_seasons' and medal == 'gold':\n",
    "        result = df3.query('Medal == \"Gold\"')\n",
    "    elif season == 'both_seasons' and medal == 'silver':\n",
    "        result = df3.query('Medal == \"Silver\"')\n",
    "    elif season == 'both_seasons' and medal == 'bronze':\n",
    "        result = df3.query('Medal == \"Bronze\"')\n",
    "    elif season == 'both_seasons' and medal == 'grand_total':\n",
    "        result = df3\n",
    "        \n",
    "    \n",
    "    sorted = result['Country'].value_counts().rename_axis('Country').reset_index(name='Medals') #sorting and renaming columns of result dataframe\n",
    "    \n",
    "    \n",
    "    return sorted\n",
    "\n",
    "#TEST function with 'both seasons', 'total total'\n",
    "top_total = Selection('both_seasons', 'grand_total').head(10)\n",
    "top_total_G = Selection('both_seasons', 'gold').head(10)\n",
    "top_summer = Selection('summer', 'total_summer').head(10)\n",
    "top_summer_G = Selection('summer', 'gold').head(10)\n",
    "top_winter = Selection('winter', 'total_winter').head(10)\n",
    "top_winter_G = Selection('winter', 'gold').head(10)\n",
    "top_winter #TEST"
   ]
  },
  {
   "cell_type": "markdown",
   "id": "4b1dbc04-3bf5-410d-ac11-7d4a4be022cb",
   "metadata": {},
   "source": [
    "#Feature 03: Use pandas, matplotlib, and/or numpy to perform a data analysis project. Ingest 2 or more pieces of data, analyze that data in some manner, and display a new result to a graph, chart, or other display\n",
    "#Feature 05: Visualize data in a graph, chart, or other visual representation of data"
   ]
  },
  {
   "cell_type": "code",
   "execution_count": null,
   "id": "8882faf0-b322-4969-976d-bfaa5c16875e",
   "metadata": {},
   "outputs": [],
   "source": [
    "#Plotting\n",
    "my_color =  color=[(255/255, 0/255, 0/255), (0/255, 255/255, 0/255), (0/255, 0/255, 255/255), (0/255, 255/255, 255/255),(200/255, 200/255, 0/255),\n",
    "                         (255/255, 0/255, 255/255),(100/255, 60/255, 80/255),(100/255, 255/255, 100/255),(100/255, 100/255, 255/255),(255/255, 100/255, 100/255)]\n",
    "\n",
    "top_total.plot.bar(x='Country', y='Medals', title= 'Top 10 Grand Total Winner Countries', xlabel= 'Countries', ylabel= 'Medals', fontsize='large',\n",
    "                  color=my_color)\n",
    "top_total_G.plot.bar(x='Country', y='Medals', title= 'Top 10 Grand Total Gold Winner Countries', xlabel= 'Countries', ylabel= 'Medals', fontsize='large',\n",
    "                  color=my_color)\n",
    "\n",
    "top_summer.plot.bar(x='Country', y='Medals', title= 'Top 10 Winner Countries - Summer Games', xlabel= 'Countries', ylabel= 'Medals', fontsize='large',\n",
    "                  color=my_color)\n",
    "\n",
    "top_summer_G.plot.bar(x='Country', y='Medals', title= 'Top 10 Gold Winner Countries - Summer Games', xlabel= 'Countries', ylabel= 'Medals', fontsize='large',\n",
    "                  color=my_color)\n",
    "\n",
    "top_winter.plot.bar(x='Country', y='Medals', title= 'Top 10 Grand Total Winner Countries - Winter Games', xlabel= 'Countries', ylabel= 'Medals', fontsize='large',\n",
    "                    color=my_color)\n",
    "\n",
    "top_winter_G.plot.bar(x='Country', y='Medals', title= 'Top 10 Gold Winner Countries - Winter Games', xlabel= 'Countries', ylabel= 'Medals', fontsize='large',\n",
    "                   color=my_color)"
   ]
  },
  {
   "cell_type": "markdown",
   "id": "0dc0a16d-d1c9-4104-af81-7bf5b734c847",
   "metadata": {},
   "source": [
    "#Feature 03: Use pandas, matplotlib, and/or numpy to perform a data analysis project. Ingest 2 or more pieces of data, analyze that data in some manner, and display a new result to a graph, chart, or other display\n",
    "#Feature 05: Visualize data in a graph, chart, or other visual representation of data"
   ]
  },
  {
   "cell_type": "code",
   "execution_count": null,
   "id": "170f554b-c770-4f04-b2d1-32014426adda",
   "metadata": {},
   "outputs": [],
   "source": [
    "top_total.groupby(['Country']).sum().plot(kind='pie', y='Medals', autopct='%1.0f%%',\n",
    "                                colors = ['red', 'brown', 'pink', 'steelblue', 'green', 'silver', 'blue', 'yellow', 'gray', 'orange'],\n",
    "                                title='Top 10 All-Time Winners')"
   ]
  },
  {
   "cell_type": "markdown",
   "id": "3e6ba3d4-1e49-431b-8127-38f2a00ed3f4",
   "metadata": {},
   "source": [
    "#Feature 06: Calculate and display data based on an external factor (ex: get the current date, and display how many days remain until some event)."
   ]
  },
  {
   "cell_type": "code",
   "execution_count": null,
   "id": "c0f8ec2b-8680-4e9d-9f2a-9100fe948fd8",
   "metadata": {},
   "outputs": [],
   "source": [
    "#Countdoun until next summer games\n",
    "next_s = datetime.datetime(2024, 7, 26)\n",
    "delta = datetime.timedelta(microseconds=-0.000001)\n",
    "\n",
    "while True:\n",
    "    time_until_s = next_s - datetime.datetime.now()\n",
    "    sec_left = time_until_s.total_seconds()\n",
    "\n",
    "    hours, remainder = divmod(sec_left, 3600)\n",
    "    minutes, seconds = divmod(remainder, 60)\n",
    "    \n",
    "    if time_until_s < delta:\n",
    "        print (\"Summer Olympics Opening Ceremony!!\")\n",
    "        break\n",
    "    else:\n",
    "\n",
    "        print(f\"Summer Olympic Games Start In: {int(hours/24)} days\")\n",
    "        break\n",
    "    \n",
    "    #time.sleep(5)"
   ]
  },
  {
   "cell_type": "markdown",
   "id": "bf9812e1-b965-4b37-b392-c7059397ccd3",
   "metadata": {},
   "source": [
    "#Feature 06: Calculate and display data based on an external factor (ex: get the current date, and display how many days remain until some event)."
   ]
  },
  {
   "cell_type": "code",
   "execution_count": null,
   "id": "c313354f-ccd1-4675-ac3e-b97d0f84533b",
   "metadata": {},
   "outputs": [],
   "source": [
    "#Countdoun until next winter games\n",
    "next_s = datetime.datetime(2026, 2, 6)\n",
    "delta = datetime.timedelta(microseconds=-0.000001)\n",
    "\n",
    "while True:\n",
    "    time_until_s = next_s - datetime.datetime.now()\n",
    "    sec_left = time_until_s.total_seconds()\n",
    "\n",
    "    hours, remainder = divmod(sec_left, 3600)\n",
    "    minutes, seconds = divmod(remainder, 60)\n",
    "    \n",
    "    if time_until_s < delta:\n",
    "        print (\"Summer Olympics Opening Ceremony!!\")\n",
    "        break\n",
    "    else:\n",
    "\n",
    "        #print(f\"Winter Olympic Games Start In: {int(hours/24)} days : {int(hours%24)} hours : {int(minutes):02d} minutes : {int(seconds):02d} seconds\")\n",
    "        print(f\"Winter Olympic Games Start In: {int(hours/24)} days\")\n",
    "        break\n",
    "    \n",
    "    #time.sleep(5)"
   ]
  },
  {
   "cell_type": "code",
   "execution_count": null,
   "id": "43bbb728-c408-4759-909f-236560a46ef7",
   "metadata": {},
   "outputs": [],
   "source": []
  },
  {
   "cell_type": "code",
   "execution_count": null,
   "id": "c7b60985-0b45-43e5-9bfb-ced733df58d0",
   "metadata": {},
   "outputs": [],
   "source": []
  }
 ],
 "metadata": {
  "kernelspec": {
   "display_name": "Python 3 (ipykernel)",
   "language": "python",
   "name": "python3"
  },
  "language_info": {
   "codemirror_mode": {
    "name": "ipython",
    "version": 3
   },
   "file_extension": ".py",
   "mimetype": "text/x-python",
   "name": "python",
   "nbconvert_exporter": "python",
   "pygments_lexer": "ipython3",
   "version": "3.9.7"
  },
  "toc-autonumbering": true,
  "toc-showcode": true,
  "toc-showmarkdowntxt": true
 },
 "nbformat": 4,
 "nbformat_minor": 5
}
